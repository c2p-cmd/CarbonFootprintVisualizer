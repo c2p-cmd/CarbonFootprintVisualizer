{
 "cells": [
  {
   "cell_type": "markdown",
   "metadata": {},
   "source": [
    "### Practice notebook to get a sense of flow for the Carbon Footptin Visualizer"
   ]
  },
  {
   "cell_type": "code",
   "execution_count": 1,
   "metadata": {},
   "outputs": [],
   "source": [
    "# required inputs from company\n",
    "company_name = \"SSP International\""
   ]
  },
  {
   "cell_type": "markdown",
   "metadata": {},
   "source": [
    "#### Dummy Data for Values"
   ]
  },
  {
   "cell_type": "code",
   "execution_count": 2,
   "metadata": {},
   "outputs": [
    {
     "data": {
      "text/plain": [
       "33509.4"
      ]
     },
     "execution_count": 2,
     "metadata": {},
     "output_type": "execute_result"
    }
   ],
   "source": [
    "# energy usage\n",
    "avg_electric_bill = 1000\n",
    "avg_gas_bill = 1500\n",
    "avg_transport_bill = 1200\n",
    "\n",
    "energy_usage = (avg_electric_bill * 12 * 5e-4) + (avg_gas_bill * 12 * 5.3e-3) + (avg_transport_bill * 12 * 2.32)\n",
    "energy_usage # kgCO2"
   ]
  },
  {
   "cell_type": "code",
   "execution_count": 3,
   "metadata": {},
   "outputs": [
    {
     "data": {
      "text/plain": [
       "3384.9999999999995"
      ]
     },
     "execution_count": 3,
     "metadata": {},
     "output_type": "execute_result"
    }
   ],
   "source": [
    "# waste\n",
    "monthly_waste_generated = 500\n",
    "recycled_waster_percent = 35\n",
    "\n",
    "waste_generated = monthly_waste_generated * 12 * 0.57 - recycled_waster_percent\n",
    "waste_generated # kgCO2"
   ]
  },
  {
   "cell_type": "code",
   "execution_count": 4,
   "metadata": {},
   "outputs": [
    {
     "data": {
      "text/plain": [
       "6396.923076923076"
      ]
     },
     "execution_count": 4,
     "metadata": {},
     "output_type": "execute_result"
    }
   ],
   "source": [
    "# travel\n",
    "annual_travel_kms = 18_000\n",
    "fuel_efficiency = 6.5 # litres per 100 kms\n",
    "\n",
    "business_travel = annual_travel_kms * 1 / fuel_efficiency * 2.31\n",
    "business_travel # kgCO2"
   ]
  },
  {
   "cell_type": "markdown",
   "metadata": {},
   "source": [
    "#### Visualizing by creating `dataframe` and plotting using `plotly`"
   ]
  },
  {
   "cell_type": "code",
   "execution_count": 5,
   "metadata": {},
   "outputs": [
    {
     "data": {
      "application/vnd.plotly.v1+json": {
       "config": {
        "plotlyServerURL": "https://plot.ly"
       },
       "data": [
        {
         "domain": {
          "x": [
           0.55,
           1
          ],
          "y": [
           0.625,
           1
          ]
         },
         "hole": 0.3,
         "labels": [
          "Energy Usage",
          "Waste Generated",
          "Business Travel"
         ],
         "marker": {
          "colors": [
           "#6DA34D",
           "#81C3D7",
           "#FFC857"
          ]
         },
         "name": "Emission Distribution",
         "pull": [
          0,
          0.15,
          0
         ],
         "type": "pie",
         "values": [
          33509.4,
          3384.9999999999995,
          6396.923076923076
         ]
        },
        {
         "marker": {
          "color": [
           "#6DA34D",
           "#81C3D7",
           "#FFC857"
          ]
         },
         "name": "Carbon Emission (kgCO2)",
         "type": "bar",
         "x": [
          "Energy Usage",
          "Waste Generated",
          "Business Travel"
         ],
         "xaxis": "x",
         "y": [
          33509.4,
          3384.9999999999995,
          6396.923076923076
         ],
         "yaxis": "y"
        }
       ],
       "layout": {
        "annotations": [
         {
          "font": {
           "size": 16
          },
          "showarrow": false,
          "text": "Carbon Emission by Category",
          "x": 0.225,
          "xanchor": "center",
          "xref": "paper",
          "y": 1,
          "yanchor": "bottom",
          "yref": "paper"
         },
         {
          "font": {
           "size": 16
          },
          "showarrow": false,
          "text": "Emission Distribution",
          "x": 0.775,
          "xanchor": "center",
          "xref": "paper",
          "y": 1,
          "yanchor": "bottom",
          "yref": "paper"
         },
         {
          "arrowhead": 1,
          "ax": 0,
          "ay": -40,
          "showarrow": true,
          "text": "Highest Emission",
          "x": "Energy Usage",
          "xref": "x",
          "y": 33509.4,
          "yref": "y"
         },
         {
          "align": "center",
          "bgcolor": "lightyellow",
          "bordercolor": "black",
          "borderpad": 10,
          "borderwidth": 1,
          "font": {
           "size": 12
          },
          "showarrow": false,
          "text": "Recommendations to reduce carbon footprint:\n- Reduce energy usage by adopting energy-efficient practices.\n- Minimize waste by recycling and using sustainable materials.\n- Limit business travel and opt for virtual meetings where possible.",
          "x": 0.5,
          "xref": "paper",
          "y": 0.1,
          "yref": "paper"
         }
        ],
        "legend": {
         "orientation": "h",
         "title": {
          "text": "Breakdown"
         },
         "x": 1,
         "xanchor": "right",
         "y": 0,
         "yanchor": "bottom"
        },
        "plot_bgcolor": "white",
        "template": {
         "data": {
          "bar": [
           {
            "error_x": {
             "color": "#2a3f5f"
            },
            "error_y": {
             "color": "#2a3f5f"
            },
            "marker": {
             "line": {
              "color": "#E5ECF6",
              "width": 0.5
             },
             "pattern": {
              "fillmode": "overlay",
              "size": 10,
              "solidity": 0.2
             }
            },
            "type": "bar"
           }
          ],
          "barpolar": [
           {
            "marker": {
             "line": {
              "color": "#E5ECF6",
              "width": 0.5
             },
             "pattern": {
              "fillmode": "overlay",
              "size": 10,
              "solidity": 0.2
             }
            },
            "type": "barpolar"
           }
          ],
          "carpet": [
           {
            "aaxis": {
             "endlinecolor": "#2a3f5f",
             "gridcolor": "white",
             "linecolor": "white",
             "minorgridcolor": "white",
             "startlinecolor": "#2a3f5f"
            },
            "baxis": {
             "endlinecolor": "#2a3f5f",
             "gridcolor": "white",
             "linecolor": "white",
             "minorgridcolor": "white",
             "startlinecolor": "#2a3f5f"
            },
            "type": "carpet"
           }
          ],
          "choropleth": [
           {
            "colorbar": {
             "outlinewidth": 0,
             "ticks": ""
            },
            "type": "choropleth"
           }
          ],
          "contour": [
           {
            "colorbar": {
             "outlinewidth": 0,
             "ticks": ""
            },
            "colorscale": [
             [
              0,
              "#0d0887"
             ],
             [
              0.1111111111111111,
              "#46039f"
             ],
             [
              0.2222222222222222,
              "#7201a8"
             ],
             [
              0.3333333333333333,
              "#9c179e"
             ],
             [
              0.4444444444444444,
              "#bd3786"
             ],
             [
              0.5555555555555556,
              "#d8576b"
             ],
             [
              0.6666666666666666,
              "#ed7953"
             ],
             [
              0.7777777777777778,
              "#fb9f3a"
             ],
             [
              0.8888888888888888,
              "#fdca26"
             ],
             [
              1,
              "#f0f921"
             ]
            ],
            "type": "contour"
           }
          ],
          "contourcarpet": [
           {
            "colorbar": {
             "outlinewidth": 0,
             "ticks": ""
            },
            "type": "contourcarpet"
           }
          ],
          "heatmap": [
           {
            "colorbar": {
             "outlinewidth": 0,
             "ticks": ""
            },
            "colorscale": [
             [
              0,
              "#0d0887"
             ],
             [
              0.1111111111111111,
              "#46039f"
             ],
             [
              0.2222222222222222,
              "#7201a8"
             ],
             [
              0.3333333333333333,
              "#9c179e"
             ],
             [
              0.4444444444444444,
              "#bd3786"
             ],
             [
              0.5555555555555556,
              "#d8576b"
             ],
             [
              0.6666666666666666,
              "#ed7953"
             ],
             [
              0.7777777777777778,
              "#fb9f3a"
             ],
             [
              0.8888888888888888,
              "#fdca26"
             ],
             [
              1,
              "#f0f921"
             ]
            ],
            "type": "heatmap"
           }
          ],
          "heatmapgl": [
           {
            "colorbar": {
             "outlinewidth": 0,
             "ticks": ""
            },
            "colorscale": [
             [
              0,
              "#0d0887"
             ],
             [
              0.1111111111111111,
              "#46039f"
             ],
             [
              0.2222222222222222,
              "#7201a8"
             ],
             [
              0.3333333333333333,
              "#9c179e"
             ],
             [
              0.4444444444444444,
              "#bd3786"
             ],
             [
              0.5555555555555556,
              "#d8576b"
             ],
             [
              0.6666666666666666,
              "#ed7953"
             ],
             [
              0.7777777777777778,
              "#fb9f3a"
             ],
             [
              0.8888888888888888,
              "#fdca26"
             ],
             [
              1,
              "#f0f921"
             ]
            ],
            "type": "heatmapgl"
           }
          ],
          "histogram": [
           {
            "marker": {
             "pattern": {
              "fillmode": "overlay",
              "size": 10,
              "solidity": 0.2
             }
            },
            "type": "histogram"
           }
          ],
          "histogram2d": [
           {
            "colorbar": {
             "outlinewidth": 0,
             "ticks": ""
            },
            "colorscale": [
             [
              0,
              "#0d0887"
             ],
             [
              0.1111111111111111,
              "#46039f"
             ],
             [
              0.2222222222222222,
              "#7201a8"
             ],
             [
              0.3333333333333333,
              "#9c179e"
             ],
             [
              0.4444444444444444,
              "#bd3786"
             ],
             [
              0.5555555555555556,
              "#d8576b"
             ],
             [
              0.6666666666666666,
              "#ed7953"
             ],
             [
              0.7777777777777778,
              "#fb9f3a"
             ],
             [
              0.8888888888888888,
              "#fdca26"
             ],
             [
              1,
              "#f0f921"
             ]
            ],
            "type": "histogram2d"
           }
          ],
          "histogram2dcontour": [
           {
            "colorbar": {
             "outlinewidth": 0,
             "ticks": ""
            },
            "colorscale": [
             [
              0,
              "#0d0887"
             ],
             [
              0.1111111111111111,
              "#46039f"
             ],
             [
              0.2222222222222222,
              "#7201a8"
             ],
             [
              0.3333333333333333,
              "#9c179e"
             ],
             [
              0.4444444444444444,
              "#bd3786"
             ],
             [
              0.5555555555555556,
              "#d8576b"
             ],
             [
              0.6666666666666666,
              "#ed7953"
             ],
             [
              0.7777777777777778,
              "#fb9f3a"
             ],
             [
              0.8888888888888888,
              "#fdca26"
             ],
             [
              1,
              "#f0f921"
             ]
            ],
            "type": "histogram2dcontour"
           }
          ],
          "mesh3d": [
           {
            "colorbar": {
             "outlinewidth": 0,
             "ticks": ""
            },
            "type": "mesh3d"
           }
          ],
          "parcoords": [
           {
            "line": {
             "colorbar": {
              "outlinewidth": 0,
              "ticks": ""
             }
            },
            "type": "parcoords"
           }
          ],
          "pie": [
           {
            "automargin": true,
            "type": "pie"
           }
          ],
          "scatter": [
           {
            "fillpattern": {
             "fillmode": "overlay",
             "size": 10,
             "solidity": 0.2
            },
            "type": "scatter"
           }
          ],
          "scatter3d": [
           {
            "line": {
             "colorbar": {
              "outlinewidth": 0,
              "ticks": ""
             }
            },
            "marker": {
             "colorbar": {
              "outlinewidth": 0,
              "ticks": ""
             }
            },
            "type": "scatter3d"
           }
          ],
          "scattercarpet": [
           {
            "marker": {
             "colorbar": {
              "outlinewidth": 0,
              "ticks": ""
             }
            },
            "type": "scattercarpet"
           }
          ],
          "scattergeo": [
           {
            "marker": {
             "colorbar": {
              "outlinewidth": 0,
              "ticks": ""
             }
            },
            "type": "scattergeo"
           }
          ],
          "scattergl": [
           {
            "marker": {
             "colorbar": {
              "outlinewidth": 0,
              "ticks": ""
             }
            },
            "type": "scattergl"
           }
          ],
          "scattermapbox": [
           {
            "marker": {
             "colorbar": {
              "outlinewidth": 0,
              "ticks": ""
             }
            },
            "type": "scattermapbox"
           }
          ],
          "scatterpolar": [
           {
            "marker": {
             "colorbar": {
              "outlinewidth": 0,
              "ticks": ""
             }
            },
            "type": "scatterpolar"
           }
          ],
          "scatterpolargl": [
           {
            "marker": {
             "colorbar": {
              "outlinewidth": 0,
              "ticks": ""
             }
            },
            "type": "scatterpolargl"
           }
          ],
          "scatterternary": [
           {
            "marker": {
             "colorbar": {
              "outlinewidth": 0,
              "ticks": ""
             }
            },
            "type": "scatterternary"
           }
          ],
          "surface": [
           {
            "colorbar": {
             "outlinewidth": 0,
             "ticks": ""
            },
            "colorscale": [
             [
              0,
              "#0d0887"
             ],
             [
              0.1111111111111111,
              "#46039f"
             ],
             [
              0.2222222222222222,
              "#7201a8"
             ],
             [
              0.3333333333333333,
              "#9c179e"
             ],
             [
              0.4444444444444444,
              "#bd3786"
             ],
             [
              0.5555555555555556,
              "#d8576b"
             ],
             [
              0.6666666666666666,
              "#ed7953"
             ],
             [
              0.7777777777777778,
              "#fb9f3a"
             ],
             [
              0.8888888888888888,
              "#fdca26"
             ],
             [
              1,
              "#f0f921"
             ]
            ],
            "type": "surface"
           }
          ],
          "table": [
           {
            "cells": {
             "fill": {
              "color": "#EBF0F8"
             },
             "line": {
              "color": "white"
             }
            },
            "header": {
             "fill": {
              "color": "#C8D4E3"
             },
             "line": {
              "color": "white"
             }
            },
            "type": "table"
           }
          ]
         },
         "layout": {
          "annotationdefaults": {
           "arrowcolor": "#2a3f5f",
           "arrowhead": 0,
           "arrowwidth": 1
          },
          "autotypenumbers": "strict",
          "coloraxis": {
           "colorbar": {
            "outlinewidth": 0,
            "ticks": ""
           }
          },
          "colorscale": {
           "diverging": [
            [
             0,
             "#8e0152"
            ],
            [
             0.1,
             "#c51b7d"
            ],
            [
             0.2,
             "#de77ae"
            ],
            [
             0.3,
             "#f1b6da"
            ],
            [
             0.4,
             "#fde0ef"
            ],
            [
             0.5,
             "#f7f7f7"
            ],
            [
             0.6,
             "#e6f5d0"
            ],
            [
             0.7,
             "#b8e186"
            ],
            [
             0.8,
             "#7fbc41"
            ],
            [
             0.9,
             "#4d9221"
            ],
            [
             1,
             "#276419"
            ]
           ],
           "sequential": [
            [
             0,
             "#0d0887"
            ],
            [
             0.1111111111111111,
             "#46039f"
            ],
            [
             0.2222222222222222,
             "#7201a8"
            ],
            [
             0.3333333333333333,
             "#9c179e"
            ],
            [
             0.4444444444444444,
             "#bd3786"
            ],
            [
             0.5555555555555556,
             "#d8576b"
            ],
            [
             0.6666666666666666,
             "#ed7953"
            ],
            [
             0.7777777777777778,
             "#fb9f3a"
            ],
            [
             0.8888888888888888,
             "#fdca26"
            ],
            [
             1,
             "#f0f921"
            ]
           ],
           "sequentialminus": [
            [
             0,
             "#0d0887"
            ],
            [
             0.1111111111111111,
             "#46039f"
            ],
            [
             0.2222222222222222,
             "#7201a8"
            ],
            [
             0.3333333333333333,
             "#9c179e"
            ],
            [
             0.4444444444444444,
             "#bd3786"
            ],
            [
             0.5555555555555556,
             "#d8576b"
            ],
            [
             0.6666666666666666,
             "#ed7953"
            ],
            [
             0.7777777777777778,
             "#fb9f3a"
            ],
            [
             0.8888888888888888,
             "#fdca26"
            ],
            [
             1,
             "#f0f921"
            ]
           ]
          },
          "colorway": [
           "#636efa",
           "#EF553B",
           "#00cc96",
           "#ab63fa",
           "#FFA15A",
           "#19d3f3",
           "#FF6692",
           "#B6E880",
           "#FF97FF",
           "#FECB52"
          ],
          "font": {
           "color": "#2a3f5f"
          },
          "geo": {
           "bgcolor": "white",
           "lakecolor": "white",
           "landcolor": "#E5ECF6",
           "showlakes": true,
           "showland": true,
           "subunitcolor": "white"
          },
          "hoverlabel": {
           "align": "left"
          },
          "hovermode": "closest",
          "mapbox": {
           "style": "light"
          },
          "paper_bgcolor": "white",
          "plot_bgcolor": "#E5ECF6",
          "polar": {
           "angularaxis": {
            "gridcolor": "white",
            "linecolor": "white",
            "ticks": ""
           },
           "bgcolor": "#E5ECF6",
           "radialaxis": {
            "gridcolor": "white",
            "linecolor": "white",
            "ticks": ""
           }
          },
          "scene": {
           "xaxis": {
            "backgroundcolor": "#E5ECF6",
            "gridcolor": "white",
            "gridwidth": 2,
            "linecolor": "white",
            "showbackground": true,
            "ticks": "",
            "zerolinecolor": "white"
           },
           "yaxis": {
            "backgroundcolor": "#E5ECF6",
            "gridcolor": "white",
            "gridwidth": 2,
            "linecolor": "white",
            "showbackground": true,
            "ticks": "",
            "zerolinecolor": "white"
           },
           "zaxis": {
            "backgroundcolor": "#E5ECF6",
            "gridcolor": "white",
            "gridwidth": 2,
            "linecolor": "white",
            "showbackground": true,
            "ticks": "",
            "zerolinecolor": "white"
           }
          },
          "shapedefaults": {
           "line": {
            "color": "#2a3f5f"
           }
          },
          "ternary": {
           "aaxis": {
            "gridcolor": "white",
            "linecolor": "white",
            "ticks": ""
           },
           "baxis": {
            "gridcolor": "white",
            "linecolor": "white",
            "ticks": ""
           },
           "bgcolor": "#E5ECF6",
           "caxis": {
            "gridcolor": "white",
            "linecolor": "white",
            "ticks": ""
           }
          },
          "title": {
           "x": 0.05
          },
          "xaxis": {
           "automargin": true,
           "gridcolor": "white",
           "linecolor": "white",
           "ticks": "",
           "title": {
            "standoff": 15
           },
           "zerolinecolor": "white",
           "zerolinewidth": 2
          },
          "yaxis": {
           "automargin": true,
           "gridcolor": "white",
           "linecolor": "white",
           "ticks": "",
           "title": {
            "standoff": 15
           },
           "zerolinecolor": "white",
           "zerolinewidth": 2
          }
         }
        },
        "title": {
         "text": "Carbon Footprint of SSP International"
        },
        "xaxis": {
         "anchor": "y",
         "domain": [
          0,
          0.45
         ],
         "linecolor": "black",
         "mirror": true,
         "showline": true,
         "ticks": "outside",
         "title": {
          "text": "Emission Category"
         }
        },
        "xaxis2": {
         "anchor": "y2",
         "domain": [
          0,
          0.45
         ],
         "linecolor": "black",
         "mirror": true,
         "showline": true,
         "ticks": "outside"
        },
        "xaxis3": {
         "anchor": "y3",
         "domain": [
          0.55,
          1
         ],
         "linecolor": "black",
         "mirror": true,
         "showline": true,
         "ticks": "outside"
        },
        "yaxis": {
         "anchor": "x",
         "domain": [
          0.625,
          1
         ],
         "gridcolor": "lightgrey",
         "linecolor": "black",
         "mirror": true,
         "showline": true,
         "ticks": "outside",
         "title": {
          "text": "Carbon Emission (kgCO2)"
         }
        },
        "yaxis2": {
         "anchor": "x2",
         "domain": [
          0,
          0.375
         ],
         "gridcolor": "lightgrey",
         "linecolor": "black",
         "mirror": true,
         "showgrid": false,
         "showline": true,
         "side": "right",
         "ticks": "outside",
         "title": {
          "text": "Cumulative Percentage"
         }
        },
        "yaxis3": {
         "anchor": "x3",
         "domain": [
          0,
          0.375
         ],
         "gridcolor": "lightgrey",
         "linecolor": "black",
         "mirror": true,
         "showline": true,
         "ticks": "outside"
        }
       }
      }
     },
     "metadata": {},
     "output_type": "display_data"
    }
   ],
   "source": [
    "import pandas as pd\n",
    "from emission_calculator.calculator import draw_report_figure\n",
    "\n",
    "# Sample data for reference\n",
    "df = pd.DataFrame(\n",
    "    {\n",
    "        'Name': company_name,\n",
    "        \"Category\": [\"Energy Usage\", \"Waste Generated\", \"Business Travel\"],\n",
    "        \"Value\": [energy_usage, waste_generated, business_travel],\n",
    "    }\n",
    ")\n",
    "\n",
    "draw_report_figure(df).show()"
   ]
  },
  {
   "cell_type": "markdown",
   "metadata": {},
   "source": [
    "### Mapping History plot"
   ]
  },
  {
   "cell_type": "code",
   "execution_count": 6,
   "metadata": {},
   "outputs": [
    {
     "data": {
      "text/html": [
       "<div>\n",
       "<style scoped>\n",
       "    .dataframe tbody tr th:only-of-type {\n",
       "        vertical-align: middle;\n",
       "    }\n",
       "\n",
       "    .dataframe tbody tr th {\n",
       "        vertical-align: top;\n",
       "    }\n",
       "\n",
       "    .dataframe thead th {\n",
       "        text-align: right;\n",
       "    }\n",
       "</style>\n",
       "<table border=\"1\" class=\"dataframe\">\n",
       "  <thead>\n",
       "    <tr style=\"text-align: right;\">\n",
       "      <th></th>\n",
       "      <th>Name</th>\n",
       "      <th>Energy Usage</th>\n",
       "      <th>Waste Generated</th>\n",
       "      <th>Business Travel</th>\n",
       "    </tr>\n",
       "  </thead>\n",
       "  <tbody>\n",
       "    <tr>\n",
       "      <th>0</th>\n",
       "      <td>Company 1</td>\n",
       "      <td>103770.4800</td>\n",
       "      <td>3799.40</td>\n",
       "      <td>18391.065</td>\n",
       "    </tr>\n",
       "    <tr>\n",
       "      <th>1</th>\n",
       "      <td>Company 2</td>\n",
       "      <td>34281.3732</td>\n",
       "      <td>2973.60</td>\n",
       "      <td>15592.962</td>\n",
       "    </tr>\n",
       "    <tr>\n",
       "      <th>2</th>\n",
       "      <td>Company 3</td>\n",
       "      <td>977435.8416</td>\n",
       "      <td>29791.76</td>\n",
       "      <td>29988.420</td>\n",
       "    </tr>\n",
       "    <tr>\n",
       "      <th>3</th>\n",
       "      <td>Company 4</td>\n",
       "      <td>39454.5912</td>\n",
       "      <td>3220.16</td>\n",
       "      <td>17660.335</td>\n",
       "    </tr>\n",
       "    <tr>\n",
       "      <th>4</th>\n",
       "      <td>Company 5</td>\n",
       "      <td>38870.7360</td>\n",
       "      <td>1921.40</td>\n",
       "      <td>4522.210</td>\n",
       "    </tr>\n",
       "  </tbody>\n",
       "</table>\n",
       "</div>"
      ],
      "text/plain": [
       "        Name  Energy Usage  Waste Generated  Business Travel\n",
       "0  Company 1   103770.4800          3799.40        18391.065\n",
       "1  Company 2    34281.3732          2973.60        15592.962\n",
       "2  Company 3   977435.8416         29791.76        29988.420\n",
       "3  Company 4    39454.5912          3220.16        17660.335\n",
       "4  Company 5    38870.7360          1921.40         4522.210"
      ]
     },
     "execution_count": 6,
     "metadata": {},
     "output_type": "execute_result"
    }
   ],
   "source": [
    "import pandas as pd\n",
    "\n",
    "df = pd.read_csv('../reports/dummy_data.csv')\n",
    "df.head()"
   ]
  },
  {
   "cell_type": "code",
   "execution_count": 7,
   "metadata": {},
   "outputs": [
    {
     "data": {
      "application/vnd.plotly.v1+json": {
       "config": {
        "plotlyServerURL": "https://plot.ly"
       },
       "data": [
        {
         "fill": "tozeroy",
         "fillcolor": "rgba(31, 119, 180, 0.5)",
         "line": {
          "color": "blue"
         },
         "mode": "lines",
         "name": "Carbon Footprint",
         "type": "scatter",
         "x": [
          "Company 1",
          "Company 2",
          "Company 3",
          "Company 4",
          "Company 5",
          "Company 6",
          "Company 7",
          "Company 8",
          "Company 9",
          "Company 10",
          "Company 11",
          "Company 12",
          "Company 13",
          "Company 14",
          "Company 15",
          "Company 16",
          "Company 17",
          "Company 18",
          "Company 19",
          "Company 20",
          "Company 21",
          "Company 22",
          "Company 23",
          "Company 24",
          "Company 25",
          "Company 26",
          "Company 27",
          "Company 28",
          "Company 29",
          "Company 30",
          "Company 31",
          "Company 32",
          "Company 33",
          "Company 34",
          "Company 35",
          "Company 36",
          "Company 37",
          "Company 38",
          "Company 39",
          "Company 40",
          "Company 41",
          "Company 42",
          "Company 43",
          "Company 44",
          "Company 45",
          "Company 46",
          "Company 47",
          "Company 48",
          "Company 49",
          "Company 50",
          "Company 51",
          "Company 52",
          "Company 53",
          "Company 54",
          "Company 55",
          "Company 56",
          "Company 57",
          "Company 58",
          "Company 59",
          "Company 60",
          "Company 61",
          "Company 62",
          "Company 63",
          "Company 64",
          "Company 65",
          "Company 66"
         ],
         "xaxis": "x",
         "y": [
          125960.94499999999,
          52847.9352,
          1037216.0216000001,
          60335.086200000005,
          45314.346,
          144812.35735,
          164629.79099999997,
          164627.70885,
          750104.7204,
          146120.03399999999,
          38969.0912,
          1349708.2772,
          128959.02279999999,
          42247.8606,
          547204.6733538461,
          118721.61655,
          1429223.8854,
          31571.974,
          1369884.2582999999,
          663274.4823999999,
          132192.8114,
          97240.89639999998,
          126654.82310000001,
          65398.3624,
          846339.0687384615,
          124406.29439999998,
          140466.59,
          738479.8345333332,
          1332872.3024,
          59172.59279999999,
          869980.7562666666,
          30493.753999999997,
          34394.0016,
          872828.8279999999,
          922086.6509333333,
          49587.1426,
          661547.5481333332,
          787952.2055999999,
          1281012.3204,
          41148.3284,
          105281.56759999998,
          111654.5932,
          1249079.534,
          610270.7108923077,
          56061.8124,
          41425.6804,
          450803.3532,
          156131.2216,
          114656.16350000001,
          997035.0793999999,
          100258.52144999999,
          90662.77,
          123506.11045000001,
          128483.64864999999,
          1264037.7775,
          159542.13919999998,
          1301101.1971999998,
          130779.85165,
          432817.868,
          137984.8952,
          54016.78639999999,
          1229762.5683999998,
          155003.5028,
          766956.9524,
          41010.6076,
          126710.2108
         ],
         "yaxis": "y"
        },
        {
         "fill": "toself",
         "name": "Company 1",
         "r": [
          103770.48,
          3799.4,
          18391.065,
          103770.48
         ],
         "subplot": "polar",
         "theta": [
          "Energy Usage",
          "Waste Generated",
          "Business Travel",
          "Energy Usage"
         ],
         "type": "scatterpolar"
        },
        {
         "fill": "toself",
         "name": "Company 2",
         "r": [
          34281.3732,
          2973.6,
          15592.962,
          34281.3732
         ],
         "subplot": "polar",
         "theta": [
          "Energy Usage",
          "Waste Generated",
          "Business Travel",
          "Energy Usage"
         ],
         "type": "scatterpolar"
        },
        {
         "fill": "toself",
         "name": "Company 3",
         "r": [
          977435.8416,
          29791.76,
          29988.42,
          977435.8416
         ],
         "subplot": "polar",
         "theta": [
          "Energy Usage",
          "Waste Generated",
          "Business Travel",
          "Energy Usage"
         ],
         "type": "scatterpolar"
        },
        {
         "fill": "toself",
         "name": "Company 4",
         "r": [
          39454.591199999995,
          3220.16,
          17660.335000000003,
          39454.591199999995
         ],
         "subplot": "polar",
         "theta": [
          "Energy Usage",
          "Waste Generated",
          "Business Travel",
          "Energy Usage"
         ],
         "type": "scatterpolar"
        },
        {
         "fill": "toself",
         "name": "Company 5",
         "r": [
          38870.736,
          1921.4,
          4522.21,
          38870.736
         ],
         "subplot": "polar",
         "theta": [
          "Energy Usage",
          "Waste Generated",
          "Business Travel",
          "Energy Usage"
         ],
         "type": "scatterpolar"
        },
        {
         "fill": "toself",
         "name": "Company 6",
         "r": [
          107626.9236,
          12538.6,
          24646.83375,
          107626.9236
         ],
         "subplot": "polar",
         "theta": [
          "Energy Usage",
          "Waste Generated",
          "Business Travel",
          "Energy Usage"
         ],
         "type": "scatterpolar"
        },
        {
         "fill": "toself",
         "name": "Company 7",
         "r": [
          135792.216,
          10111.56,
          18726.015,
          135792.216
         ],
         "subplot": "polar",
         "theta": [
          "Energy Usage",
          "Waste Generated",
          "Business Travel",
          "Energy Usage"
         ],
         "type": "scatterpolar"
        },
        {
         "fill": "toself",
         "name": "Company 8",
         "r": [
          131928.5076,
          12512.4,
          20186.80125,
          131928.5076
         ],
         "subplot": "polar",
         "theta": [
          "Energy Usage",
          "Waste Generated",
          "Business Travel",
          "Energy Usage"
         ],
         "type": "scatterpolar"
        },
        {
         "fill": "toself",
         "name": "Company 9",
         "r": [
          670178.0304,
          54351.35999999999,
          25575.33,
          670178.0304
         ],
         "subplot": "polar",
         "theta": [
          "Energy Usage",
          "Waste Generated",
          "Business Travel",
          "Energy Usage"
         ],
         "type": "scatterpolar"
        },
        {
         "fill": "toself",
         "name": "Company 10",
         "r": [
          116455.914,
          6325.2,
          23338.92,
          116455.914
         ],
         "subplot": "polar",
         "theta": [
          "Energy Usage",
          "Waste Generated",
          "Business Travel",
          "Energy Usage"
         ],
         "type": "scatterpolar"
        },
        {
         "fill": "toself",
         "name": "Company 11",
         "r": [
          20886.7932,
          2051.3599999999997,
          16030.938,
          20886.7932
         ],
         "subplot": "polar",
         "theta": [
          "Energy Usage",
          "Waste Generated",
          "Business Travel",
          "Energy Usage"
         ],
         "type": "scatterpolar"
        },
        {
         "fill": "toself",
         "name": "Company 12",
         "r": [
          1260533.3472,
          68015,
          21159.93,
          1260533.3472
         ],
         "subplot": "polar",
         "theta": [
          "Energy Usage",
          "Waste Generated",
          "Business Travel",
          "Energy Usage"
         ],
         "type": "scatterpolar"
        },
        {
         "fill": "toself",
         "name": "Company 13",
         "r": [
          106407.7128,
          5602.839999999999,
          16948.47,
          106407.7128
         ],
         "subplot": "polar",
         "theta": [
          "Energy Usage",
          "Waste Generated",
          "Business Travel",
          "Energy Usage"
         ],
         "type": "scatterpolar"
        },
        {
         "fill": "toself",
         "name": "Company 14",
         "r": [
          35697.1656,
          1244.2399999999998,
          5306.455,
          35697.1656
         ],
         "subplot": "polar",
         "theta": [
          "Energy Usage",
          "Waste Generated",
          "Business Travel",
          "Energy Usage"
         ],
         "type": "scatterpolar"
        },
        {
         "fill": "toself",
         "name": "Company 15",
         "r": [
          493215.5472,
          31511.76,
          22477.366153846157,
          493215.5472
         ],
         "subplot": "polar",
         "theta": [
          "Energy Usage",
          "Waste Generated",
          "Business Travel",
          "Energy Usage"
         ],
         "type": "scatterpolar"
        },
        {
         "fill": "toself",
         "name": "Company 16",
         "r": [
          84705.3228,
          11998.24,
          22018.05375,
          84705.3228
         ],
         "subplot": "polar",
         "theta": [
          "Energy Usage",
          "Waste Generated",
          "Business Travel",
          "Energy Usage"
         ],
         "type": "scatterpolar"
        },
        {
         "fill": "toself",
         "name": "Company 17",
         "r": [
          1364612.4204,
          42862.32,
          21749.145,
          1364612.4204
         ],
         "subplot": "polar",
         "theta": [
          "Energy Usage",
          "Waste Generated",
          "Business Travel",
          "Energy Usage"
         ],
         "type": "scatterpolar"
        },
        {
         "fill": "toself",
         "name": "Company 18",
         "r": [
          14570.1,
          3203.3199999999997,
          13798.554,
          14570.1
         ],
         "subplot": "polar",
         "theta": [
          "Energy Usage",
          "Waste Generated",
          "Business Travel",
          "Energy Usage"
         ],
         "type": "scatterpolar"
        },
        {
         "fill": "toself",
         "name": "Company 19",
         "r": [
          1290894.7907999998,
          40910.079999999994,
          38079.3875,
          1290894.7907999998
         ],
         "subplot": "polar",
         "theta": [
          "Energy Usage",
          "Waste Generated",
          "Business Travel",
          "Energy Usage"
         ],
         "type": "scatterpolar"
        },
        {
         "fill": "toself",
         "name": "Company 20",
         "r": [
          583044.9624,
          44831.079999999994,
          35398.44,
          583044.9624
         ],
         "subplot": "polar",
         "theta": [
          "Energy Usage",
          "Waste Generated",
          "Business Travel",
          "Energy Usage"
         ],
         "type": "scatterpolar"
        },
        {
         "fill": "toself",
         "name": "Company 21",
         "r": [
          100688.3964,
          11715.8,
          19788.615,
          100688.3964
         ],
         "subplot": "polar",
         "theta": [
          "Energy Usage",
          "Waste Generated",
          "Business Travel",
          "Energy Usage"
         ],
         "type": "scatterpolar"
        },
        {
         "fill": "toself",
         "name": "Company 22",
         "r": [
          71665.46639999999,
          7695.039999999999,
          17880.39,
          71665.46639999999
         ],
         "subplot": "polar",
         "theta": [
          "Energy Usage",
          "Waste Generated",
          "Business Travel",
          "Energy Usage"
         ],
         "type": "scatterpolar"
        },
        {
         "fill": "toself",
         "name": "Company 23",
         "r": [
          94115.0856,
          5308.879999999999,
          27230.8575,
          94115.0856
         ],
         "subplot": "polar",
         "theta": [
          "Energy Usage",
          "Waste Generated",
          "Business Travel",
          "Energy Usage"
         ],
         "type": "scatterpolar"
        },
        {
         "fill": "toself",
         "name": "Company 24",
         "r": [
          40794.8604,
          1974.2799999999995,
          22629.222,
          40794.8604
         ],
         "subplot": "polar",
         "theta": [
          "Energy Usage",
          "Waste Generated",
          "Business Travel",
          "Energy Usage"
         ],
         "type": "scatterpolar"
        },
        {
         "fill": "toself",
         "name": "Company 25",
         "r": [
          776162.9772,
          49428.56,
          20747.53153846154,
          776162.9772
         ],
         "subplot": "polar",
         "theta": [
          "Energy Usage",
          "Waste Generated",
          "Business Travel",
          "Energy Usage"
         ],
         "type": "scatterpolar"
        },
        {
         "fill": "toself",
         "name": "Company 26",
         "r": [
          89011.6044,
          12881.759999999998,
          22512.93,
          89011.6044
         ],
         "subplot": "polar",
         "theta": [
          "Energy Usage",
          "Waste Generated",
          "Business Travel",
          "Energy Usage"
         ],
         "type": "scatterpolar"
        },
        {
         "fill": "toself",
         "name": "Company 27",
         "r": [
          113104.44,
          4093.519999999999,
          23268.63,
          113104.44
         ],
         "subplot": "polar",
         "theta": [
          "Energy Usage",
          "Waste Generated",
          "Business Travel",
          "Energy Usage"
         ],
         "type": "scatterpolar"
        },
        {
         "fill": "toself",
         "name": "Company 28",
         "r": [
          693763.4711999999,
          15402.72,
          29313.643333333333,
          693763.4711999999
         ],
         "subplot": "polar",
         "theta": [
          "Energy Usage",
          "Waste Generated",
          "Business Travel",
          "Energy Usage"
         ],
         "type": "scatterpolar"
        },
        {
         "fill": "toself",
         "name": "Company 29",
         "r": [
          1281159.9444,
          25984.039999999997,
          25728.318,
          1281159.9444
         ],
         "subplot": "polar",
         "theta": [
          "Energy Usage",
          "Waste Generated",
          "Business Travel",
          "Energy Usage"
         ],
         "type": "scatterpolar"
        },
        {
         "fill": "toself",
         "name": "Company 30",
         "r": [
          39594.92279999999,
          898.2399999999999,
          18679.43,
          39594.92279999999
         ],
         "subplot": "polar",
         "theta": [
          "Energy Usage",
          "Waste Generated",
          "Business Travel",
          "Energy Usage"
         ],
         "type": "scatterpolar"
        },
        {
         "fill": "toself",
         "name": "Company 31",
         "r": [
          807656.4996,
          34554.719999999994,
          27769.53666666667,
          807656.4996
         ],
         "subplot": "polar",
         "theta": [
          "Energy Usage",
          "Waste Generated",
          "Business Travel",
          "Energy Usage"
         ],
         "type": "scatterpolar"
        },
        {
         "fill": "toself",
         "name": "Company 32",
         "r": [
          22917.444,
          2630.6,
          4945.71,
          22917.444
         ],
         "subplot": "polar",
         "theta": [
          "Energy Usage",
          "Waste Generated",
          "Business Travel",
          "Energy Usage"
         ],
         "type": "scatterpolar"
        },
        {
         "fill": "toself",
         "name": "Company 33",
         "r": [
          27315.7476,
          704.04,
          6374.214,
          27315.7476
         ],
         "subplot": "polar",
         "theta": [
          "Energy Usage",
          "Waste Generated",
          "Business Travel",
          "Energy Usage"
         ],
         "type": "scatterpolar"
        },
        {
         "fill": "toself",
         "name": "Company 34",
         "r": [
          819921.7679999999,
          18332.24,
          34574.82,
          819921.7679999999
         ],
         "subplot": "polar",
         "theta": [
          "Energy Usage",
          "Waste Generated",
          "Business Travel",
          "Energy Usage"
         ],
         "type": "scatterpolar"
        },
        {
         "fill": "toself",
         "name": "Company 35",
         "r": [
          835117.0175999999,
          53976.16,
          32993.473333333335,
          835117.0175999999
         ],
         "subplot": "polar",
         "theta": [
          "Energy Usage",
          "Waste Generated",
          "Business Travel",
          "Energy Usage"
         ],
         "type": "scatterpolar"
        },
        {
         "fill": "toself",
         "name": "Company 36",
         "r": [
          39066.8076,
          2916.2,
          7604.135,
          39066.8076
         ],
         "subplot": "polar",
         "theta": [
          "Energy Usage",
          "Waste Generated",
          "Business Travel",
          "Energy Usage"
         ],
         "type": "scatterpolar"
        },
        {
         "fill": "toself",
         "name": "Company 37",
         "r": [
          586049.7348,
          32003.08,
          43494.73333333334,
          586049.7348
         ],
         "subplot": "polar",
         "theta": [
          "Energy Usage",
          "Waste Generated",
          "Business Travel",
          "Energy Usage"
         ],
         "type": "scatterpolar"
        },
        {
         "fill": "toself",
         "name": "Company 38",
         "r": [
          735152.2956,
          15319.319999999998,
          37480.59,
          735152.2956
         ],
         "subplot": "polar",
         "theta": [
          "Energy Usage",
          "Waste Generated",
          "Business Travel",
          "Energy Usage"
         ],
         "type": "scatterpolar"
        },
        {
         "fill": "toself",
         "name": "Company 39",
         "r": [
          1226604.0684,
          25955.519999999997,
          28452.732000000004,
          1226604.0684
         ],
         "subplot": "polar",
         "theta": [
          "Energy Usage",
          "Waste Generated",
          "Business Travel",
          "Energy Usage"
         ],
         "type": "scatterpolar"
        },
        {
         "fill": "toself",
         "name": "Company 40",
         "r": [
          22809.9084,
          783.9599999999999,
          17554.46,
          22809.9084
         ],
         "subplot": "polar",
         "theta": [
          "Energy Usage",
          "Waste Generated",
          "Business Travel",
          "Energy Usage"
         ],
         "type": "scatterpolar"
        },
        {
         "fill": "toself",
         "name": "Company 41",
         "r": [
          81402.38759999999,
          3567.68,
          20311.5,
          81402.38759999999
         ],
         "subplot": "polar",
         "theta": [
          "Energy Usage",
          "Waste Generated",
          "Business Travel",
          "Energy Usage"
         ],
         "type": "scatterpolar"
        },
        {
         "fill": "toself",
         "name": "Company 42",
         "r": [
          85074.4932,
          3464.9199999999996,
          23115.180000000004,
          85074.4932
         ],
         "subplot": "polar",
         "theta": [
          "Energy Usage",
          "Waste Generated",
          "Business Travel",
          "Energy Usage"
         ],
         "type": "scatterpolar"
        },
        {
         "fill": "toself",
         "name": "Company 43",
         "r": [
          1176258.366,
          41200.03999999999,
          31621.128,
          1176258.366
         ],
         "subplot": "polar",
         "theta": [
          "Energy Usage",
          "Waste Generated",
          "Business Travel",
          "Energy Usage"
         ],
         "type": "scatterpolar"
        },
        {
         "fill": "toself",
         "name": "Company 44",
         "r": [
          572275.0332,
          15898.04,
          22097.637692307693,
          572275.0332
         ],
         "subplot": "polar",
         "theta": [
          "Energy Usage",
          "Waste Generated",
          "Business Travel",
          "Energy Usage"
         ],
         "type": "scatterpolar"
        },
        {
         "fill": "toself",
         "name": "Company 45",
         "r": [
          32439.7644,
          1813.8,
          21808.248,
          32439.7644
         ],
         "subplot": "polar",
         "theta": [
          "Energy Usage",
          "Waste Generated",
          "Business Travel",
          "Energy Usage"
         ],
         "type": "scatterpolar"
        },
        {
         "fill": "toself",
         "name": "Company 46",
         "r": [
          18685.5384,
          1459.9599999999998,
          21280.182,
          18685.5384
         ],
         "subplot": "polar",
         "theta": [
          "Energy Usage",
          "Waste Generated",
          "Business Travel",
          "Energy Usage"
         ],
         "type": "scatterpolar"
        },
        {
         "fill": "toself",
         "name": "Company 47",
         "r": [
          368820.6432,
          56995.439999999995,
          24987.27,
          368820.6432
         ],
         "subplot": "polar",
         "theta": [
          "Energy Usage",
          "Waste Generated",
          "Business Travel",
          "Energy Usage"
         ],
         "type": "scatterpolar"
        },
        {
         "fill": "toself",
         "name": "Company 48",
         "r": [
          119112.35159999998,
          9338.8,
          27680.070000000003,
          119112.35159999998
         ],
         "subplot": "polar",
         "theta": [
          "Energy Usage",
          "Waste Generated",
          "Business Travel",
          "Energy Usage"
         ],
         "type": "scatterpolar"
        },
        {
         "fill": "toself",
         "name": "Company 49",
         "r": [
          92870.136,
          5534.599999999999,
          16251.4275,
          92870.136
         ],
         "subplot": "polar",
         "theta": [
          "Energy Usage",
          "Waste Generated",
          "Business Travel",
          "Energy Usage"
         ],
         "type": "scatterpolar"
        },
        {
         "fill": "toself",
         "name": "Company 50",
         "r": [
          926760.2844,
          41826.32,
          28448.475,
          926760.2844
         ],
         "subplot": "polar",
         "theta": [
          "Energy Usage",
          "Waste Generated",
          "Business Travel",
          "Energy Usage"
         ],
         "type": "scatterpolar"
        },
        {
         "fill": "toself",
         "name": "Company 51",
         "r": [
          76489.61519999999,
          5334.24,
          18434.66625,
          76489.61519999999
         ],
         "subplot": "polar",
         "theta": [
          "Energy Usage",
          "Waste Generated",
          "Business Travel",
          "Energy Usage"
         ],
         "type": "scatterpolar"
        },
        {
         "fill": "toself",
         "name": "Company 52",
         "r": [
          58790.49,
          3838.12,
          28034.16,
          58790.49
         ],
         "subplot": "polar",
         "theta": [
          "Energy Usage",
          "Waste Generated",
          "Business Travel",
          "Energy Usage"
         ],
         "type": "scatterpolar"
        },
        {
         "fill": "toself",
         "name": "Company 53",
         "r": [
          92474.0292,
          13358.56,
          17673.52125,
          92474.0292
         ],
         "subplot": "polar",
         "theta": [
          "Energy Usage",
          "Waste Generated",
          "Business Travel",
          "Energy Usage"
         ],
         "type": "scatterpolar"
        },
        {
         "fill": "toself",
         "name": "Company 54",
         "r": [
          96242.5524,
          7825.839999999999,
          24415.25625,
          96242.5524
         ],
         "subplot": "polar",
         "theta": [
          "Energy Usage",
          "Waste Generated",
          "Business Travel",
          "Energy Usage"
         ],
         "type": "scatterpolar"
        },
        {
         "fill": "toself",
         "name": "Company 55",
         "r": [
          1188874.17,
          49676.8,
          25486.8075,
          1188874.17
         ],
         "subplot": "polar",
         "theta": [
          "Energy Usage",
          "Waste Generated",
          "Business Travel",
          "Energy Usage"
         ],
         "type": "scatterpolar"
        },
        {
         "fill": "toself",
         "name": "Company 56",
         "r": [
          132613.42919999998,
          10398.679999999998,
          16530.030000000002,
          132613.42919999998
         ],
         "subplot": "polar",
         "theta": [
          "Energy Usage",
          "Waste Generated",
          "Business Travel",
          "Energy Usage"
         ],
         "type": "scatterpolar"
        },
        {
         "fill": "toself",
         "name": "Company 57",
         "r": [
          1207644.6671999998,
          65097.31999999999,
          28359.210000000003,
          1207644.6671999998
         ],
         "subplot": "polar",
         "theta": [
          "Energy Usage",
          "Waste Generated",
          "Business Travel",
          "Energy Usage"
         ],
         "type": "scatterpolar"
        },
        {
         "fill": "toself",
         "name": "Company 58",
         "r": [
          101059.8504,
          4118.5599999999995,
          25601.44125,
          101059.8504
         ],
         "subplot": "polar",
         "theta": [
          "Energy Usage",
          "Waste Generated",
          "Business Travel",
          "Energy Usage"
         ],
         "type": "scatterpolar"
        },
        {
         "fill": "toself",
         "name": "Company 59",
         "r": [
          382365.378,
          20757.44,
          29695.05,
          382365.378
         ],
         "subplot": "polar",
         "theta": [
          "Energy Usage",
          "Waste Generated",
          "Business Travel",
          "Energy Usage"
         ],
         "type": "scatterpolar"
        },
        {
         "fill": "toself",
         "name": "Company 60",
         "r": [
          100929.7152,
          6841.039999999999,
          30214.140000000003,
          100929.7152
         ],
         "subplot": "polar",
         "theta": [
          "Energy Usage",
          "Waste Generated",
          "Business Travel",
          "Energy Usage"
         ],
         "type": "scatterpolar"
        },
        {
         "fill": "toself",
         "name": "Company 61",
         "r": [
          38567.126399999994,
          1039.88,
          14409.78,
          38567.126399999994
         ],
         "subplot": "polar",
         "theta": [
          "Energy Usage",
          "Waste Generated",
          "Business Travel",
          "Energy Usage"
         ],
         "type": "scatterpolar"
        },
        {
         "fill": "toself",
         "name": "Company 62",
         "r": [
          1166740.9884,
          28641.639999999996,
          34379.94,
          1166740.9884
         ],
         "subplot": "polar",
         "theta": [
          "Energy Usage",
          "Waste Generated",
          "Business Travel",
          "Energy Usage"
         ],
         "type": "scatterpolar"
        },
        {
         "fill": "toself",
         "name": "Company 63",
         "r": [
          120456.2928,
          10229.839999999998,
          24317.37,
          120456.2928
         ],
         "subplot": "polar",
         "theta": [
          "Energy Usage",
          "Waste Generated",
          "Business Travel",
          "Energy Usage"
         ],
         "type": "scatterpolar"
        },
        {
         "fill": "toself",
         "name": "Company 64",
         "r": [
          702080.3424,
          44119.719999999994,
          20756.89,
          702080.3424
         ],
         "subplot": "polar",
         "theta": [
          "Energy Usage",
          "Waste Generated",
          "Business Travel",
          "Energy Usage"
         ],
         "type": "scatterpolar"
        },
        {
         "fill": "toself",
         "name": "Company 65",
         "r": [
          27793.7076,
          1077.08,
          12139.82,
          27793.7076
         ],
         "subplot": "polar",
         "theta": [
          "Energy Usage",
          "Waste Generated",
          "Business Travel",
          "Energy Usage"
         ],
         "type": "scatterpolar"
        },
        {
         "fill": "toself",
         "name": "Company 66",
         "r": [
          92171.1708,
          9002.32,
          25536.72,
          92171.1708
         ],
         "subplot": "polar",
         "theta": [
          "Energy Usage",
          "Waste Generated",
          "Business Travel",
          "Energy Usage"
         ],
         "type": "scatterpolar"
        }
       ],
       "layout": {
        "annotations": [
         {
          "font": {
           "size": 16
          },
          "showarrow": false,
          "text": "Total Carbon Footprint by Company",
          "x": 0.5,
          "xanchor": "center",
          "xref": "paper",
          "y": 1,
          "yanchor": "bottom",
          "yref": "paper"
         },
         {
          "font": {
           "size": 16
          },
          "showarrow": false,
          "text": "Company Metrics Radar Chart",
          "x": 0.5,
          "xanchor": "center",
          "xref": "paper",
          "y": 0.30000000000000004,
          "yanchor": "bottom",
          "yref": "paper"
         }
        ],
        "height": 800,
        "legend": {
         "x": 1.05,
         "y": 1
        },
        "polar": {
         "domain": {
          "x": [
           0,
           1
          ],
          "y": [
           0,
           0.30000000000000004
          ]
         },
         "radialaxis": {
          "range": [
           704.04,
           1364612.4204
          ],
          "visible": true
         }
        },
        "showlegend": true,
        "template": {
         "data": {
          "bar": [
           {
            "error_x": {
             "color": "#2a3f5f"
            },
            "error_y": {
             "color": "#2a3f5f"
            },
            "marker": {
             "line": {
              "color": "white",
              "width": 0.5
             },
             "pattern": {
              "fillmode": "overlay",
              "size": 10,
              "solidity": 0.2
             }
            },
            "type": "bar"
           }
          ],
          "barpolar": [
           {
            "marker": {
             "line": {
              "color": "white",
              "width": 0.5
             },
             "pattern": {
              "fillmode": "overlay",
              "size": 10,
              "solidity": 0.2
             }
            },
            "type": "barpolar"
           }
          ],
          "carpet": [
           {
            "aaxis": {
             "endlinecolor": "#2a3f5f",
             "gridcolor": "#C8D4E3",
             "linecolor": "#C8D4E3",
             "minorgridcolor": "#C8D4E3",
             "startlinecolor": "#2a3f5f"
            },
            "baxis": {
             "endlinecolor": "#2a3f5f",
             "gridcolor": "#C8D4E3",
             "linecolor": "#C8D4E3",
             "minorgridcolor": "#C8D4E3",
             "startlinecolor": "#2a3f5f"
            },
            "type": "carpet"
           }
          ],
          "choropleth": [
           {
            "colorbar": {
             "outlinewidth": 0,
             "ticks": ""
            },
            "type": "choropleth"
           }
          ],
          "contour": [
           {
            "colorbar": {
             "outlinewidth": 0,
             "ticks": ""
            },
            "colorscale": [
             [
              0,
              "#0d0887"
             ],
             [
              0.1111111111111111,
              "#46039f"
             ],
             [
              0.2222222222222222,
              "#7201a8"
             ],
             [
              0.3333333333333333,
              "#9c179e"
             ],
             [
              0.4444444444444444,
              "#bd3786"
             ],
             [
              0.5555555555555556,
              "#d8576b"
             ],
             [
              0.6666666666666666,
              "#ed7953"
             ],
             [
              0.7777777777777778,
              "#fb9f3a"
             ],
             [
              0.8888888888888888,
              "#fdca26"
             ],
             [
              1,
              "#f0f921"
             ]
            ],
            "type": "contour"
           }
          ],
          "contourcarpet": [
           {
            "colorbar": {
             "outlinewidth": 0,
             "ticks": ""
            },
            "type": "contourcarpet"
           }
          ],
          "heatmap": [
           {
            "colorbar": {
             "outlinewidth": 0,
             "ticks": ""
            },
            "colorscale": [
             [
              0,
              "#0d0887"
             ],
             [
              0.1111111111111111,
              "#46039f"
             ],
             [
              0.2222222222222222,
              "#7201a8"
             ],
             [
              0.3333333333333333,
              "#9c179e"
             ],
             [
              0.4444444444444444,
              "#bd3786"
             ],
             [
              0.5555555555555556,
              "#d8576b"
             ],
             [
              0.6666666666666666,
              "#ed7953"
             ],
             [
              0.7777777777777778,
              "#fb9f3a"
             ],
             [
              0.8888888888888888,
              "#fdca26"
             ],
             [
              1,
              "#f0f921"
             ]
            ],
            "type": "heatmap"
           }
          ],
          "heatmapgl": [
           {
            "colorbar": {
             "outlinewidth": 0,
             "ticks": ""
            },
            "colorscale": [
             [
              0,
              "#0d0887"
             ],
             [
              0.1111111111111111,
              "#46039f"
             ],
             [
              0.2222222222222222,
              "#7201a8"
             ],
             [
              0.3333333333333333,
              "#9c179e"
             ],
             [
              0.4444444444444444,
              "#bd3786"
             ],
             [
              0.5555555555555556,
              "#d8576b"
             ],
             [
              0.6666666666666666,
              "#ed7953"
             ],
             [
              0.7777777777777778,
              "#fb9f3a"
             ],
             [
              0.8888888888888888,
              "#fdca26"
             ],
             [
              1,
              "#f0f921"
             ]
            ],
            "type": "heatmapgl"
           }
          ],
          "histogram": [
           {
            "marker": {
             "pattern": {
              "fillmode": "overlay",
              "size": 10,
              "solidity": 0.2
             }
            },
            "type": "histogram"
           }
          ],
          "histogram2d": [
           {
            "colorbar": {
             "outlinewidth": 0,
             "ticks": ""
            },
            "colorscale": [
             [
              0,
              "#0d0887"
             ],
             [
              0.1111111111111111,
              "#46039f"
             ],
             [
              0.2222222222222222,
              "#7201a8"
             ],
             [
              0.3333333333333333,
              "#9c179e"
             ],
             [
              0.4444444444444444,
              "#bd3786"
             ],
             [
              0.5555555555555556,
              "#d8576b"
             ],
             [
              0.6666666666666666,
              "#ed7953"
             ],
             [
              0.7777777777777778,
              "#fb9f3a"
             ],
             [
              0.8888888888888888,
              "#fdca26"
             ],
             [
              1,
              "#f0f921"
             ]
            ],
            "type": "histogram2d"
           }
          ],
          "histogram2dcontour": [
           {
            "colorbar": {
             "outlinewidth": 0,
             "ticks": ""
            },
            "colorscale": [
             [
              0,
              "#0d0887"
             ],
             [
              0.1111111111111111,
              "#46039f"
             ],
             [
              0.2222222222222222,
              "#7201a8"
             ],
             [
              0.3333333333333333,
              "#9c179e"
             ],
             [
              0.4444444444444444,
              "#bd3786"
             ],
             [
              0.5555555555555556,
              "#d8576b"
             ],
             [
              0.6666666666666666,
              "#ed7953"
             ],
             [
              0.7777777777777778,
              "#fb9f3a"
             ],
             [
              0.8888888888888888,
              "#fdca26"
             ],
             [
              1,
              "#f0f921"
             ]
            ],
            "type": "histogram2dcontour"
           }
          ],
          "mesh3d": [
           {
            "colorbar": {
             "outlinewidth": 0,
             "ticks": ""
            },
            "type": "mesh3d"
           }
          ],
          "parcoords": [
           {
            "line": {
             "colorbar": {
              "outlinewidth": 0,
              "ticks": ""
             }
            },
            "type": "parcoords"
           }
          ],
          "pie": [
           {
            "automargin": true,
            "type": "pie"
           }
          ],
          "scatter": [
           {
            "fillpattern": {
             "fillmode": "overlay",
             "size": 10,
             "solidity": 0.2
            },
            "type": "scatter"
           }
          ],
          "scatter3d": [
           {
            "line": {
             "colorbar": {
              "outlinewidth": 0,
              "ticks": ""
             }
            },
            "marker": {
             "colorbar": {
              "outlinewidth": 0,
              "ticks": ""
             }
            },
            "type": "scatter3d"
           }
          ],
          "scattercarpet": [
           {
            "marker": {
             "colorbar": {
              "outlinewidth": 0,
              "ticks": ""
             }
            },
            "type": "scattercarpet"
           }
          ],
          "scattergeo": [
           {
            "marker": {
             "colorbar": {
              "outlinewidth": 0,
              "ticks": ""
             }
            },
            "type": "scattergeo"
           }
          ],
          "scattergl": [
           {
            "marker": {
             "colorbar": {
              "outlinewidth": 0,
              "ticks": ""
             }
            },
            "type": "scattergl"
           }
          ],
          "scattermapbox": [
           {
            "marker": {
             "colorbar": {
              "outlinewidth": 0,
              "ticks": ""
             }
            },
            "type": "scattermapbox"
           }
          ],
          "scatterpolar": [
           {
            "marker": {
             "colorbar": {
              "outlinewidth": 0,
              "ticks": ""
             }
            },
            "type": "scatterpolar"
           }
          ],
          "scatterpolargl": [
           {
            "marker": {
             "colorbar": {
              "outlinewidth": 0,
              "ticks": ""
             }
            },
            "type": "scatterpolargl"
           }
          ],
          "scatterternary": [
           {
            "marker": {
             "colorbar": {
              "outlinewidth": 0,
              "ticks": ""
             }
            },
            "type": "scatterternary"
           }
          ],
          "surface": [
           {
            "colorbar": {
             "outlinewidth": 0,
             "ticks": ""
            },
            "colorscale": [
             [
              0,
              "#0d0887"
             ],
             [
              0.1111111111111111,
              "#46039f"
             ],
             [
              0.2222222222222222,
              "#7201a8"
             ],
             [
              0.3333333333333333,
              "#9c179e"
             ],
             [
              0.4444444444444444,
              "#bd3786"
             ],
             [
              0.5555555555555556,
              "#d8576b"
             ],
             [
              0.6666666666666666,
              "#ed7953"
             ],
             [
              0.7777777777777778,
              "#fb9f3a"
             ],
             [
              0.8888888888888888,
              "#fdca26"
             ],
             [
              1,
              "#f0f921"
             ]
            ],
            "type": "surface"
           }
          ],
          "table": [
           {
            "cells": {
             "fill": {
              "color": "#EBF0F8"
             },
             "line": {
              "color": "white"
             }
            },
            "header": {
             "fill": {
              "color": "#C8D4E3"
             },
             "line": {
              "color": "white"
             }
            },
            "type": "table"
           }
          ]
         },
         "layout": {
          "annotationdefaults": {
           "arrowcolor": "#2a3f5f",
           "arrowhead": 0,
           "arrowwidth": 1
          },
          "autotypenumbers": "strict",
          "coloraxis": {
           "colorbar": {
            "outlinewidth": 0,
            "ticks": ""
           }
          },
          "colorscale": {
           "diverging": [
            [
             0,
             "#8e0152"
            ],
            [
             0.1,
             "#c51b7d"
            ],
            [
             0.2,
             "#de77ae"
            ],
            [
             0.3,
             "#f1b6da"
            ],
            [
             0.4,
             "#fde0ef"
            ],
            [
             0.5,
             "#f7f7f7"
            ],
            [
             0.6,
             "#e6f5d0"
            ],
            [
             0.7,
             "#b8e186"
            ],
            [
             0.8,
             "#7fbc41"
            ],
            [
             0.9,
             "#4d9221"
            ],
            [
             1,
             "#276419"
            ]
           ],
           "sequential": [
            [
             0,
             "#0d0887"
            ],
            [
             0.1111111111111111,
             "#46039f"
            ],
            [
             0.2222222222222222,
             "#7201a8"
            ],
            [
             0.3333333333333333,
             "#9c179e"
            ],
            [
             0.4444444444444444,
             "#bd3786"
            ],
            [
             0.5555555555555556,
             "#d8576b"
            ],
            [
             0.6666666666666666,
             "#ed7953"
            ],
            [
             0.7777777777777778,
             "#fb9f3a"
            ],
            [
             0.8888888888888888,
             "#fdca26"
            ],
            [
             1,
             "#f0f921"
            ]
           ],
           "sequentialminus": [
            [
             0,
             "#0d0887"
            ],
            [
             0.1111111111111111,
             "#46039f"
            ],
            [
             0.2222222222222222,
             "#7201a8"
            ],
            [
             0.3333333333333333,
             "#9c179e"
            ],
            [
             0.4444444444444444,
             "#bd3786"
            ],
            [
             0.5555555555555556,
             "#d8576b"
            ],
            [
             0.6666666666666666,
             "#ed7953"
            ],
            [
             0.7777777777777778,
             "#fb9f3a"
            ],
            [
             0.8888888888888888,
             "#fdca26"
            ],
            [
             1,
             "#f0f921"
            ]
           ]
          },
          "colorway": [
           "#636efa",
           "#EF553B",
           "#00cc96",
           "#ab63fa",
           "#FFA15A",
           "#19d3f3",
           "#FF6692",
           "#B6E880",
           "#FF97FF",
           "#FECB52"
          ],
          "font": {
           "color": "#2a3f5f"
          },
          "geo": {
           "bgcolor": "white",
           "lakecolor": "white",
           "landcolor": "white",
           "showlakes": true,
           "showland": true,
           "subunitcolor": "#C8D4E3"
          },
          "hoverlabel": {
           "align": "left"
          },
          "hovermode": "closest",
          "mapbox": {
           "style": "light"
          },
          "paper_bgcolor": "white",
          "plot_bgcolor": "white",
          "polar": {
           "angularaxis": {
            "gridcolor": "#EBF0F8",
            "linecolor": "#EBF0F8",
            "ticks": ""
           },
           "bgcolor": "white",
           "radialaxis": {
            "gridcolor": "#EBF0F8",
            "linecolor": "#EBF0F8",
            "ticks": ""
           }
          },
          "scene": {
           "xaxis": {
            "backgroundcolor": "white",
            "gridcolor": "#DFE8F3",
            "gridwidth": 2,
            "linecolor": "#EBF0F8",
            "showbackground": true,
            "ticks": "",
            "zerolinecolor": "#EBF0F8"
           },
           "yaxis": {
            "backgroundcolor": "white",
            "gridcolor": "#DFE8F3",
            "gridwidth": 2,
            "linecolor": "#EBF0F8",
            "showbackground": true,
            "ticks": "",
            "zerolinecolor": "#EBF0F8"
           },
           "zaxis": {
            "backgroundcolor": "white",
            "gridcolor": "#DFE8F3",
            "gridwidth": 2,
            "linecolor": "#EBF0F8",
            "showbackground": true,
            "ticks": "",
            "zerolinecolor": "#EBF0F8"
           }
          },
          "shapedefaults": {
           "line": {
            "color": "#2a3f5f"
           }
          },
          "ternary": {
           "aaxis": {
            "gridcolor": "#DFE8F3",
            "linecolor": "#A2B1C6",
            "ticks": ""
           },
           "baxis": {
            "gridcolor": "#DFE8F3",
            "linecolor": "#A2B1C6",
            "ticks": ""
           },
           "bgcolor": "white",
           "caxis": {
            "gridcolor": "#DFE8F3",
            "linecolor": "#A2B1C6",
            "ticks": ""
           }
          },
          "title": {
           "x": 0.05
          },
          "xaxis": {
           "automargin": true,
           "gridcolor": "#EBF0F8",
           "linecolor": "#EBF0F8",
           "ticks": "",
           "title": {
            "standoff": 15
           },
           "zerolinecolor": "#EBF0F8",
           "zerolinewidth": 2
          },
          "yaxis": {
           "automargin": true,
           "gridcolor": "#EBF0F8",
           "linecolor": "#EBF0F8",
           "ticks": "",
           "title": {
            "standoff": 15
           },
           "zerolinecolor": "#EBF0F8",
           "zerolinewidth": 2
          }
         }
        },
        "title": {
         "text": "Company Metrics Visualization"
        },
        "width": 1000,
        "xaxis": {
         "anchor": "y",
         "domain": [
          0,
          1
         ],
         "title": {
          "text": "Company"
         }
        },
        "yaxis": {
         "anchor": "x",
         "domain": [
          0.55,
          1
         ],
         "title": {
          "text": "Carbon Footprint (total)"
         }
        }
       }
      }
     },
     "metadata": {},
     "output_type": "display_data"
    }
   ],
   "source": [
    "from emission_calculator.calculator import draw_historic_figure\n",
    "\n",
    "draw_historic_figure(df).show()"
   ]
  }
 ],
 "metadata": {
  "kernelspec": {
   "display_name": "venv",
   "language": "python",
   "name": "python3"
  },
  "language_info": {
   "codemirror_mode": {
    "name": "ipython",
    "version": 3
   },
   "file_extension": ".py",
   "mimetype": "text/x-python",
   "name": "python",
   "nbconvert_exporter": "python",
   "pygments_lexer": "ipython3",
   "version": "3.12.4"
  }
 },
 "nbformat": 4,
 "nbformat_minor": 2
}
